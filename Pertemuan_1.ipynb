{
  "nbformat": 4,
  "nbformat_minor": 0,
  "metadata": {
    "colab": {
      "provenance": [],
      "authorship_tag": "ABX9TyOwxYtom+a9b7sHCDhnVn9n",
      "include_colab_link": true
    },
    "kernelspec": {
      "name": "python3",
      "display_name": "Python 3"
    },
    "language_info": {
      "name": "python"
    }
  },
  "cells": [
    {
      "cell_type": "markdown",
      "metadata": {
        "id": "view-in-github",
        "colab_type": "text"
      },
      "source": [
        "<a href=\"https://colab.research.google.com/github/aiman2617/Pemograman-dasar/blob/main/Pertemuan_1.ipynb\" target=\"_parent\"><img src=\"https://colab.research.google.com/assets/colab-badge.svg\" alt=\"Open In Colab\"/></a>"
      ]
    },
    {
      "cell_type": "code",
      "execution_count": null,
      "metadata": {
        "colab": {
          "base_uri": "https://localhost:8080/"
        },
        "id": "bqTLo7DyS36I",
        "outputId": "5afde274-6439-4c8f-aaaa-a72c24ebfdec"
      },
      "outputs": [
        {
          "output_type": "stream",
          "name": "stdout",
          "text": [
            "aiman\n",
            "21\n",
            "RPE\n",
            "3\n",
            "pemograman dasar\n",
            "False\n"
          ]
        }
      ],
      "source": [
        "# Biodata saya\n",
        "\n",
        "nama =  \"aiman\"\n",
        "umur = 21\n",
        "jurusan = \"RPE\"\n",
        "semester = 3\n",
        "matakuliah = \"pemograman dasar\"\n",
        "statuslulus = False\n",
        "\n",
        "\n",
        "\n",
        "\n",
        "print (nama)\n",
        "print (umur)\n",
        "print (jurusan)\n",
        "print (semester)\n",
        "print (matakuliah)\n",
        "print (statuslulus)\n"
      ]
    },
    {
      "cell_type": "code",
      "source": [
        "# Biodata Saya\n",
        "\n",
        "Nama_Lengkap = \"Aiman Fitra Riyadhi\"\n",
        "Nama_Panggilan = \"Aiman\"\n",
        "Umur = 21\n",
        "Jurusan = \"RPE\"\n",
        "Semester = 3\n",
        "Matakuliah = \"Pemorograman Dasar\"\n",
        "Status_Lulus = False\n",
        "Alumni_Sekolah = \"SMK NEGERI 5 BATAM\"\n",
        "Alamat = \"Perum Sari Padjajaran Blok C/19\"\n",
        "\n",
        "\n",
        "\n",
        "\n",
        "\n",
        "\n",
        "print (Nama_Lengkap)\n",
        "print (Nama_Panggilan)\n",
        "print (Umur)\n",
        "print (Jurusan)\n",
        "print (Semester)\n",
        "print (Matakuliah)\n",
        "print (Status_Lulus)\n",
        "print (Alumni_Sekolah)\n",
        "print (Alamat)\n",
        "\n",
        "\n"
      ],
      "metadata": {
        "colab": {
          "base_uri": "https://localhost:8080/"
        },
        "id": "DpAo_gHLiirF",
        "outputId": "0b239ff0-2378-4b38-cee4-cb3de6deb0bd"
      },
      "execution_count": 5,
      "outputs": [
        {
          "output_type": "stream",
          "name": "stdout",
          "text": [
            "Aiman Fitra Riyadhi\n",
            "Aiman\n",
            "21\n",
            "RPE\n",
            "3\n",
            "Pemorograman Dasar\n",
            "False\n",
            "SMK NEGERI 5 BATAM\n",
            "Perum Sari Padjajaran Blok C/19\n"
          ]
        }
      ]
    }
  ]
}