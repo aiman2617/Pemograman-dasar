{
  "nbformat": 4,
  "nbformat_minor": 0,
  "metadata": {
    "colab": {
      "provenance": [],
      "authorship_tag": "ABX9TyO1b+1plwCkz1DuFTqViQYb",
      "include_colab_link": true
    },
    "kernelspec": {
      "name": "python3",
      "display_name": "Python 3"
    },
    "language_info": {
      "name": "python"
    }
  },
  "cells": [
    {
      "cell_type": "markdown",
      "metadata": {
        "id": "view-in-github",
        "colab_type": "text"
      },
      "source": [
        "<a href=\"https://colab.research.google.com/github/aiman2617/Pemograman-dasar/blob/main/Pertemuan_3.ipynb\" target=\"_parent\"><img src=\"https://colab.research.google.com/assets/colab-badge.svg\" alt=\"Open In Colab\"/></a>"
      ]
    },
    {
      "cell_type": "code",
      "source": [
        "total = input(\"Berapa porsi makan yang anda beli? : \")\n",
        "Nama  = input(\"Siapa nama pelanggan ? :\")\n",
        "\n",
        "\n",
        "print (total)\n",
        "print (Nama)\n"
      ],
      "metadata": {
        "colab": {
          "base_uri": "https://localhost:8080/"
        },
        "id": "3FBVxA5Ife_K",
        "outputId": "188d9c73-83d9-43ac-942d-856cb59a8523"
      },
      "execution_count": null,
      "outputs": [
        {
          "output_type": "stream",
          "name": "stdout",
          "text": [
            "Berapa porsi makan yang anda beli? : 3\n",
            "Siapa nama pelanggan ? :Aiman\n",
            "3\n",
            "Aiman\n"
          ]
        }
      ]
    },
    {
      "cell_type": "code",
      "source": [
        "total = float(input(\"Berapa porsi makan yang Anda beli? : \"))\n",
        "Nama  = str(input(\"Siapa Nama Pelanggan ? : \"))\n",
        "\n",
        "print(\"Nama Pelanggan:\", Nama)\n",
        "print(\"Total Porsi yang dibeli:\", total)\n"
      ],
      "metadata": {
        "id": "qgO0UoYqhuEZ",
        "colab": {
          "base_uri": "https://localhost:8080/"
        },
        "outputId": "a8177cf6-8f55-4c34-815b-6c4c12e4be3b"
      },
      "execution_count": 1,
      "outputs": [
        {
          "output_type": "stream",
          "name": "stdout",
          "text": [
            "Berapa porsi makan yang Anda beli? : 3\n",
            "Siapa Nama Pelanggan ? : Aiman\n",
            "Nama Pelanggan: Aiman\n",
            "Total Porsi yang dibeli: 3.0\n"
          ]
        }
      ]
    },
    {
      "cell_type": "code",
      "source": [
        "food = \"Mie ayam bakso\"\n",
        "print (\"Aiman sedang memesan\",food)"
      ],
      "metadata": {
        "colab": {
          "base_uri": "https://localhost:8080/"
        },
        "id": "0wYxo6SwheAp",
        "outputId": "081e90d7-4ee9-4824-ce05-027681e6c32e"
      },
      "execution_count": null,
      "outputs": [
        {
          "output_type": "stream",
          "name": "stdout",
          "text": [
            "Aiman sedang memesan Mie ayam bakso\n"
          ]
        }
      ]
    },
    {
      "cell_type": "code",
      "source": [
        "food = \"Mi ayam bakso\"\n",
        "\n",
        "# Cara 1: Menggunakan koma (,) → otomatis dipisahkan spasi\n",
        "print(\"Aiman sedang memesan\", food)\n",
        "\n",
        "# Cara 2: Menggunakan tanda plus (+) → menggabungkan string\n",
        "print(\"Aiman sedang memesan \" + food)\n",
        "\n",
        "# Cara 3: Menggunakan operator format %s\n",
        "print(\"Aiman sedang memesan %s\" % (food))\n",
        "\n",
        "# Cara 4: Menggunakan f-string (cara modern di Python)\n",
        "print(f\"Aiman sedang memesan {food}\")\n"
      ],
      "metadata": {
        "colab": {
          "base_uri": "https://localhost:8080/"
        },
        "id": "13ILmUmnJf6D",
        "outputId": "f742cd69-d3e9-4330-e599-bc4419ff3934"
      },
      "execution_count": 13,
      "outputs": [
        {
          "output_type": "stream",
          "name": "stdout",
          "text": [
            "Aiman sedang memesan Mi ayam bakso\n",
            "Aiman sedang memesan Mi ayam bakso\n",
            "Aiman sedang memesan Mi ayam bakso\n",
            "Aiman sedang memesan Mi ayam bakso\n"
          ]
        }
      ]
    },
    {
      "cell_type": "code",
      "source": [
        "\n",
        "produk   = \"Mi Ayam Bakso\"\n",
        "porsi    = 3\n",
        "harga    = 12.500\n",
        "kode     = 64\n",
        "\n",
        "print(\"Pesanan: %s\" % (produk))             # %s → string\n",
        "print(\"Jumlah porsi: %d\" % (porsi))         # %d → integer\n",
        "print(\"Harga per porsi: %f\" % (harga))      # %f → float\n",
        "print(\"Harga per porsi (2 angka desimal): %.2f\" % (harga))\n",
        "print(\"Kode produk %d dalam hex: %x\" % (kode, kode))  # %x → hex\n",
        "print(\"Kode produk %d dalam oktal: %o\" % (kode, kode))# %o → octal\n",
        "\n",
        "# Kombinasi lebih dari satu format\n",
        "print(\"Saya memesan %d porsi %s dengan harga %.2f\" % (porsi, produk, harga))\n"
      ],
      "metadata": {
        "colab": {
          "base_uri": "https://localhost:8080/"
        },
        "id": "QyJmAaH3DzdF",
        "outputId": "82b3b4b8-0bc0-4287-c14a-8db1277dc153"
      },
      "execution_count": 4,
      "outputs": [
        {
          "output_type": "stream",
          "name": "stdout",
          "text": [
            "Pesanan: Mi Ayam Bakso\n",
            "Jumlah porsi: 3\n",
            "Harga per porsi: 12.500000\n",
            "Harga per porsi (2 angka desimal): 12.50\n",
            "Kode produk 64 dalam hex: 40\n",
            "Kode produk 64 dalam oktal: 100\n",
            "Saya memesan 3 porsi Mi Ayam Bakso dengan harga 12.50\n"
          ]
        }
      ]
    },
    {
      "cell_type": "code",
      "source": [
        "# konversi waktu\n",
        "total_detik = 3600\n",
        "jam = total_detik // 3600\n",
        "sisa_detik = total_detik % 3600\n",
        "menit = sisa_detik // 6     # ⚠️ SALAH → seharusnya 60\n",
        "detik = sisa_detik % 60\n",
        "\n",
        "print(f\"Hasil Konversi: {jam} Jam, {menit} Menit, {detik} Detik\")\n",
        "\n",
        "total_detik = int(input(\"Masukkan total detik: \"))\n",
        "\n",
        "total_detik = 358200\n",
        "\n",
        "jam = total_detik // 3600\n",
        "sisa_detik = total_detik % 3600\n",
        "menit = sisa_detik // 60\n",
        "detik = sisa_detik % 60\n",
        "\n",
        "print(f\"Hasil Konversi: {jam} Jam, {menit} Menit, {detik} Detik\")\n",
        "\n"
      ],
      "metadata": {
        "colab": {
          "base_uri": "https://localhost:8080/"
        },
        "id": "JUt-_1tNgtHX",
        "outputId": "ceafa2d5-3911-410c-f347-9c54d196ecf1"
      },
      "execution_count": 22,
      "outputs": [
        {
          "output_type": "stream",
          "name": "stdout",
          "text": [
            "Hasil Konversi: 1 Jam, 0 Menit, 0 Detik\n",
            "Masukkan total detik: 358200\n",
            "Hasil Konversi: 99 Jam, 30 Menit, 0 Detik\n"
          ]
        }
      ]
    },
    {
      "cell_type": "code",
      "source": [
        "nilai_mahasiswa = int(input(\"Masukkan nilai mahasiswa: \"))\n",
        "standar_kelulusan = int(input(\"Masukkan standar kelulusan: \"))\n",
        "\n",
        "apakah_lulus = nilai_mahasiswa >= standar_kelulusan\n",
        "perlu_remedial = nilai_mahasiswa < standar_kelulusan\n",
        "\n",
        "print(f\"Nilai Mahasiswa: {nilai_mahasiswa}\")\n",
        "print(f\"Standar Kelulusan: {standar_kelulusan}\")\n",
        "print(f\"Apakah Mahasiswa Lulus? {apakah_lulus}\")\n",
        "print(f\"Perlu Remedial? {perlu_remedial}\")\n"
      ],
      "metadata": {
        "colab": {
          "base_uri": "https://localhost:8080/"
        },
        "id": "QZ1YsdWBlfvj",
        "outputId": "1524098e-f501-450e-a7d1-a7042e1c4e39"
      },
      "execution_count": 27,
      "outputs": [
        {
          "output_type": "stream",
          "name": "stdout",
          "text": [
            "Masukkan nilai mahasiswa: 90\n",
            "Masukkan standar kelulusan: 80\n",
            "Nilai Mahasiswa: 90\n",
            "Standar Kelulusan: 80\n",
            "Apakah Mahasiswa Lulus? True\n",
            "Perlu Remedial? False\n"
          ]
        }
      ]
    },
    {
      "cell_type": "code",
      "source": [
        "# Input 5 nilai mahasiswa\n",
        "nilai_tugas = float(input(\"Masukkan nilai Tugas: \"))\n",
        "nilai_quiz = float(input(\"Masukkan nilai Quiz: \"))\n",
        "nilai_uts = float(input(\"Masukkan nilai UTS: \"))\n",
        "nilai_uas = float(input(\"Masukkan nilai UAS: \"))\n",
        "nilai_project = float(input(\"Masukkan nilai Project: \"))\n",
        "\n",
        "# Hitung rata-rata dari 5 nilai\n",
        "nilai_mahasiswa = (nilai_tugas + nilai_quiz + nilai_uts + nilai_uas + nilai_project) / 5\n",
        "\n",
        "# Input standar kelulusan\n",
        "standar_kelulusan = float(input(\"Masukkan standar kelulusan: \"))\n",
        "\n",
        "# Cek lulus atau remedial\n",
        "apakah_lulus = nilai_mahasiswa >= standar_kelulusan\n",
        "perlu_remedial = nilai_mahasiswa < standar_kelulusan\n",
        "\n",
        "# Output\n",
        "print(f\"Nilai Mahasiswa: {nilai_mahasiswa}\")\n",
        "print(f\"Standar Kelulusan: {standar_kelulusan}\")\n",
        "print(f\"Apakah Mahasiswa Lulus? {apakah_lulus}\")\n",
        "print(f\"Perlu Remedial? {perlu_remedial}\")\n"
      ],
      "metadata": {
        "colab": {
          "base_uri": "https://localhost:8080/"
        },
        "id": "CVsQWkjAniA5",
        "outputId": "e8d6cc3b-6d3c-4460-ef82-8717f293e96d"
      },
      "execution_count": 30,
      "outputs": [
        {
          "output_type": "stream",
          "name": "stdout",
          "text": [
            "Masukkan nilai Tugas: 90\n",
            "Masukkan nilai Quiz: 85\n",
            "Masukkan nilai UTS: 80\n",
            "Masukkan nilai UAS: 80\n",
            "Masukkan nilai Project: 85\n",
            "Masukkan standar kelulusan: 75\n",
            "Nilai Mahasiswa: 84.0\n",
            "Standar Kelulusan: 75.0\n",
            "Apakah Mahasiswa Lulus? True\n",
            "Perlu Remedial? False\n"
          ]
        }
      ]
    },
    {
      "cell_type": "code",
      "source": [
        "belanja = 850000\n",
        "diskon = (0, 0.1 * belanja)[belanja > 500000]\n",
        "total_harga = belanja - diskon\n",
        "print(\"Total harga setelah diskon =\", total_harga)\n",
        "\n",
        "belanja = int(input(\"Masukkan total belanja: \"))\n",
        "diskon = (0, 0.1 * belanja)[belanja > 500000]\n",
        "total_harga = belanja - diskon\n",
        "print(\"Total harga setelah diskon =\", total_harga)\n",
        "\n"
      ],
      "metadata": {
        "colab": {
          "base_uri": "https://localhost:8080/"
        },
        "id": "Dli8_jURrkMm",
        "outputId": "947c7507-4c4b-4822-f453-e1e7fb714327"
      },
      "execution_count": 40,
      "outputs": [
        {
          "output_type": "stream",
          "name": "stdout",
          "text": [
            "Total harga setelah diskon = 765000.0\n",
            "Masukkan total belanja: 850000\n",
            "Total harga setelah diskon = 765000.0\n"
          ]
        }
      ]
    },
    {
      "cell_type": "code",
      "source": [
        "# (Tidak ada diskon karena ≤ 500 ribu)\n",
        "belanja = int(input(\"Masukkan total belanja: \"))\n",
        "\n",
        "if belanja > 10000000:\n",
        "    diskon = 0.35 * belanja     # 35% jika belanja > 10 juta\n",
        "elif belanja > 500000:\n",
        "    diskon = 0.1 * belanja      # 10% jika belanja > 500 ribu\n",
        "else:\n",
        "    diskon = 0                  # Tidak ada diskon jika <= 500 ribu\n",
        "\n",
        "total_harga = belanja - diskon\n",
        "print(\"Total harga setelah diskon =\", total_harga)\n",
        "\n",
        "\n"
      ],
      "metadata": {
        "colab": {
          "base_uri": "https://localhost:8080/"
        },
        "id": "RYci-l6PrztE",
        "outputId": "095f7ce7-1628-44a8-f3b6-4b919e1dd61d"
      },
      "execution_count": 44,
      "outputs": [
        {
          "output_type": "stream",
          "name": "stdout",
          "text": [
            "Masukkan total belanja:  300000\n",
            "Total harga setelah diskon = 300000\n"
          ]
        }
      ]
    },
    {
      "cell_type": "code",
      "source": [
        "# Proses 10%\n",
        "belanja = int(input(\"Masukkan total belanja: \"))\n",
        "\n",
        "if belanja > 10000000:\n",
        "    diskon = 0.35 * belanja     # 35% jika belanja > 10 juta\n",
        "elif belanja > 500000:\n",
        "    diskon = 0.1 * belanja      # 10% jika belanja > 500 ribu\n",
        "else:\n",
        "    diskon = 0                  # Tidak ada diskon jika <= 500 ribu\n",
        "\n",
        "total_harga = belanja - diskon\n",
        "print(\"Total harga setelah diskon =\", total_harga)"
      ],
      "metadata": {
        "colab": {
          "base_uri": "https://localhost:8080/"
        },
        "id": "6MxBgKSduRV-",
        "outputId": "87f486ed-888b-4156-f7d7-96b2e1b135d9"
      },
      "execution_count": 45,
      "outputs": [
        {
          "output_type": "stream",
          "name": "stdout",
          "text": [
            "Masukkan total belanja: 850000\n",
            "Total harga setelah diskon = 765000.0\n"
          ]
        }
      ]
    },
    {
      "cell_type": "code",
      "source": [
        "#Proses 35%\n",
        "belanja = int(input(\"Masukkan total belanja: \"))\n",
        "\n",
        "if belanja > 10000000:\n",
        "    diskon = 0.35 * belanja     # 35% jika belanja > 10 juta\n",
        "elif belanja > 500000:\n",
        "    diskon = 0.1 * belanja      # 10% jika belanja > 500 ribu\n",
        "else:\n",
        "    diskon = 0                  # Tidak ada diskon jika <= 500 ribu\n",
        "\n",
        "total_harga = belanja - diskon\n",
        "print(\"Total harga setelah diskon =\", total_harga)\n"
      ],
      "metadata": {
        "colab": {
          "base_uri": "https://localhost:8080/"
        },
        "id": "3KtyCy2Uu_ev",
        "outputId": "2981177d-d435-45dd-a5a2-42553a33ef39"
      },
      "execution_count": 46,
      "outputs": [
        {
          "output_type": "stream",
          "name": "stdout",
          "text": [
            "Masukkan total belanja: 12000000\n",
            "Total harga setelah diskon = 7800000.0\n"
          ]
        }
      ]
    },
    {
      "cell_type": "code",
      "source": [
        "\n",
        "tahun = int(input(\"Masukkan tahun: \"))\n",
        "\n",
        "kabisat = (tahun % 4 == 0 and tahun % 100 != 0) or (tahun % 400 == 0)\n",
        "\n",
        "print(\"Apakah tahun kabisat?\", kabisat)\n",
        "\n",
        "\n",
        "tahun = int(input(\"Masukkan tahun: \"))\n",
        "\n",
        "kabisat = (tahun % 4 == 0 and tahun % 100 != 0) or (tahun % 400 == 0)\n",
        "\n",
        "print(\"Apakah tahun kabisat?\", kabisat)\n",
        "\n",
        "\n",
        "tahun = int(input(\"Masukkan tahun: \"))\n",
        "\n",
        "kabisat = (tahun % 4 == 0 and tahun % 100 != 0) or (tahun % 400 == 0)\n",
        "\n",
        "print(\"Apakah tahun kabisat?\", kabisat)\n"
      ],
      "metadata": {
        "colab": {
          "base_uri": "https://localhost:8080/"
        },
        "id": "-35AdWwGyMbV",
        "outputId": "93d833f6-ee8b-4625-d511-83530cd72ce2"
      },
      "execution_count": 52,
      "outputs": [
        {
          "output_type": "stream",
          "name": "stdout",
          "text": [
            "Masukkan tahun: 2024\n",
            "Apakah tahun kabisat? True\n",
            "Masukkan tahun: 2100\n",
            "Apakah tahun kabisat? False\n",
            "Masukkan tahun: 2000\n",
            "Apakah tahun kabisat? True\n"
          ]
        }
      ]
    },
    {
      "cell_type": "code",
      "source": [
        "# Program Kasir Sederhana\n",
        "\n",
        "# Input data\n",
        "items = [40000, 35000, 45000]   # contoh daftar harga item yang dibeli\n",
        "is_member = True                # status keanggotaan\n",
        "\n",
        "# 1. Hitung subtotal\n",
        "subtotal = sum(items)\n",
        "\n",
        "# 2. Cek syarat diskon\n",
        "if is_member and subtotal > 100000:\n",
        "    diskon = 0.15 * subtotal\n",
        "else:\n",
        "    diskon = 0\n",
        "\n",
        "# 3. Hitung harga setelah diskon\n",
        "harga_setelah_diskon = subtotal - diskon\n",
        "\n",
        "# 4. Hitung PPN (11%)\n",
        "ppn = 0.11 * harga_setelah_diskon\n",
        "\n",
        "# 5. Hitung total akhir\n",
        "total = harga_setelah_diskon + ppn\n",
        "\n",
        "# Output\n",
        "print(f\"Subtotal: Rp {subtotal:,.0f}\")\n",
        "print(f\"Diskon: Rp {diskon:,.0f}\")\n",
        "print(f\"Harga setelah diskon: Rp {harga_setelah_diskon:,.0f}\")\n",
        "print(f\"PPN (11%): Rp {ppn:,.0f}\")\n",
        "print(f\"Total yang harus dibayar: Rp {total:,.0f}\")\n"
      ],
      "metadata": {
        "colab": {
          "base_uri": "https://localhost:8080/"
        },
        "id": "R7iUQzJex_wA",
        "outputId": "01ffaeee-3f75-4944-9ded-8a1f47381697"
      },
      "execution_count": 56,
      "outputs": [
        {
          "output_type": "stream",
          "name": "stdout",
          "text": [
            "Subtotal: Rp 120,000\n",
            "Diskon: Rp 18,000\n",
            "Harga setelah diskon: Rp 102,000\n",
            "PPN (11%): Rp 11,220\n",
            "Total yang harus dibayar: Rp 113,220\n"
          ]
        }
      ]
    }
  ]
}