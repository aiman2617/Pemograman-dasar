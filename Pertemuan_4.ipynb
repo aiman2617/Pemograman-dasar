{
  "nbformat": 4,
  "nbformat_minor": 0,
  "metadata": {
    "colab": {
      "provenance": [],
      "authorship_tag": "ABX9TyPQc7zbw5nMluOMGJoB/bXk",
      "include_colab_link": true
    },
    "kernelspec": {
      "name": "python3",
      "display_name": "Python 3"
    },
    "language_info": {
      "name": "python"
    }
  },
  "cells": [
    {
      "cell_type": "markdown",
      "metadata": {
        "id": "view-in-github",
        "colab_type": "text"
      },
      "source": [
        "<a href=\"https://colab.research.google.com/github/aiman2617/Pemograman-dasar/blob/main/Pertemuan_4.ipynb\" target=\"_parent\"><img src=\"https://colab.research.google.com/assets/colab-badge.svg\" alt=\"Open In Colab\"/></a>"
      ]
    },
    {
      "cell_type": "code",
      "execution_count": null,
      "metadata": {
        "colab": {
          "base_uri": "https://localhost:8080/"
        },
        "id": "z52mZ2lKaatC",
        "outputId": "bf29a4d5-10e8-40cf-86c2-0fb4a6afebca"
      },
      "outputs": [
        {
          "output_type": "stream",
          "name": "stdout",
          "text": [
            "Pengunjung adalah orang dewasa.\n"
          ]
        }
      ],
      "source": [
        "umur : int = 20\n",
        "if umur > 17:\n",
        "    print (\"Pengunjung adalah orang dewasa.\")"
      ]
    },
    {
      "cell_type": "code",
      "source": [
        "username = input(\"Masukkan username\")\n",
        "password = input(\"Masukkan password\")\n",
        "\n",
        "if username == \"Aiman\" and password == \"244345\":\n",
        "  print(\"Login berhasil\")\n",
        "else:\n",
        "  print(\"Login gagal\")"
      ],
      "metadata": {
        "colab": {
          "base_uri": "https://localhost:8080/"
        },
        "id": "9uLeUwpfblot",
        "outputId": "a2780f51-0fef-4b60-cfaf-264a8c77351e"
      },
      "execution_count": null,
      "outputs": [
        {
          "output_type": "stream",
          "name": "stdout",
          "text": [
            "Masukkan usernameAiman\n",
            "Masukkan password244345\n",
            "Login berhasil\n"
          ]
        }
      ]
    },
    {
      "cell_type": "code",
      "source": [
        " # Mengecek bonus dan diskon\n",
        "total_belanja = input(\"Total belanja: Rp \")\n",
        "#jumlah yang harus dibayar adalah berapa total belanjanya\n",
        "#tapi kalau dapat diskon akan berkurang\n",
        "bayar = int (total_belanja)\n",
        "#jika dia belanja di atas 100rb maka berikan bonus dan diskon\n",
        "if int (total_belanja) > 100000:\n",
        "  print(\"Selamat Karena Belanja > Rp. 100.000 anda mendapat Voucher Makan\")\n",
        "  print(\"dan diskon 5%\")\n",
        "  #hitung diskonnya\n",
        "  diskon = int(total_belanja) * 5/100 #5%\n",
        "  bayar = int(total_belanja) - diskon\n",
        "  # Cetak struk\n",
        "  print (\"Total yang harus dibayar: Rp %s\" % bayar)\n",
        "  print (\"Terima kasih sudah belanja di Toko kami\")\n",
        "  print (\"Kami tunggu kunjungan anda selanjutnya\")"
      ],
      "metadata": {
        "colab": {
          "base_uri": "https://localhost:8080/"
        },
        "id": "2yq8d-pWeXD_",
        "outputId": "cc820536-d630-4b00-c851-df6173756632"
      },
      "execution_count": 5,
      "outputs": [
        {
          "output_type": "stream",
          "name": "stdout",
          "text": [
            "Total belanja: Rp 120000\n",
            "Selamat Karena Belanja > Rp. 100.000 anda mendapat Voucher Makan\n",
            "dan diskon 5%\n",
            "Total yang harus dibayar: Rp 114000.0\n",
            "Terima kasih sudah belanja di Toko kami\n",
            "Kami tunggu kunjungan anda selanjutnya\n"
          ]
        }
      ]
    },
    {
      "cell_type": "code",
      "source": [
        "#Variabel untuk memeriksa apakah ada notifikasi baru\n",
        "ada_notifikasi_baru : bool = True\n",
        "if ada_notifikasi_baru:\n",
        "  print(\"Anda memiliki pesan baru\")"
      ],
      "metadata": {
        "colab": {
          "base_uri": "https://localhost:8080/"
        },
        "id": "lp2sl-usehIO",
        "outputId": "3d5fffa9-8404-4a1a-f594-acd090b43498"
      },
      "execution_count": null,
      "outputs": [
        {
          "output_type": "stream",
          "name": "stdout",
          "text": [
            "Anda memiliki pesan baru\n"
          ]
        }
      ]
    },
    {
      "cell_type": "code",
      "source": [
        "umur = input (\"Berapa umur kamu: \")\n",
        "if int(umur) >= 18:\n",
        "  print(\"Kamu boleh membuat SIM\")\n",
        "else:\n",
        "  print(\"Kamu belum boleh membuat SIM\")"
      ],
      "metadata": {
        "colab": {
          "base_uri": "https://localhost:8080/"
        },
        "id": "yw5u0n7afw0o",
        "outputId": "e157397a-1ddd-4355-a345-73d7dfe50aab"
      },
      "execution_count": null,
      "outputs": [
        {
          "output_type": "stream",
          "name": "stdout",
          "text": [
            "Berapa umur kamu: 21\n",
            "Kamu boleh membuat SIM\n"
          ]
        }
      ]
    },
    {
      "cell_type": "code",
      "source": [
        "total_belanja = 30000\n",
        "if total_belanja > 20000:\n",
        "  diskon = total_belanja * 0.10\n",
        "  total_bayar = total_belanja - diskon\n",
        "  print(f\"Anda mendapat diskon! Total bayar: Rp {total_bayar}\")\n",
        "else:\n",
        "  print(f\"Total bayar : Rp {total_belanja}\")"
      ],
      "metadata": {
        "colab": {
          "base_uri": "https://localhost:8080/"
        },
        "id": "9WMUJpkjgQC_",
        "outputId": "6afb9189-5960-43a3-9269-0abd6a38a3b4"
      },
      "execution_count": null,
      "outputs": [
        {
          "output_type": "stream",
          "name": "stdout",
          "text": [
            "Anda mendapat diskon! Total bayar: Rp 27000.0\n"
          ]
        }
      ]
    },
    {
      "cell_type": "code",
      "source": [
        "angka = int(input(\"Masukkan bilangan\"))\n",
        "if angka % 2 == 0:\n",
        "  print(\"Bilangan genap\")\n",
        "else:\n",
        "  print(\"Bilangan ganjil\")"
      ],
      "metadata": {
        "colab": {
          "base_uri": "https://localhost:8080/"
        },
        "id": "aE5viP03hdaW",
        "outputId": "abfae34b-71b3-4171-cb71-e2954d51d5e0"
      },
      "execution_count": null,
      "outputs": [
        {
          "output_type": "stream",
          "name": "stdout",
          "text": [
            "Masukkan bilangan6\n",
            "Bilangan genap\n"
          ]
        }
      ]
    },
    {
      "cell_type": "code",
      "source": [
        "angka = int(input(\"Masukkan bilangan\"))\n",
        "if angka % 2 == 0:\n",
        "  print(\"Bilangan genap\")\n",
        "else:\n",
        "  print(\"Bilangan ganjil\")"
      ],
      "metadata": {
        "colab": {
          "base_uri": "https://localhost:8080/"
        },
        "id": "SGTBRHQxh6Un",
        "outputId": "07f0f865-3585-45f0-f453-a7f769f43403"
      },
      "execution_count": null,
      "outputs": [
        {
          "output_type": "stream",
          "name": "stdout",
          "text": [
            "Masukkan bilangan9\n",
            "Bilangan ganjil\n"
          ]
        }
      ]
    },
    {
      "cell_type": "code",
      "source": [
        "nilai = 90\n",
        "if nilai >= 85:\n",
        "  print(\"Luar biasa! Nilai A\")\n",
        "elif nilai >= 70:\n",
        "  print(\"Bagus! Nilai B\")\n",
        "elif nilai >= 60:\n",
        "  print(\"cukup.nilai C\")\n",
        "else:\n",
        "  print(\"Nilai kurang,perlu belajar lebih giat.\")"
      ],
      "metadata": {
        "colab": {
          "base_uri": "https://localhost:8080/"
        },
        "id": "aN57h-MiiAGu",
        "outputId": "1a3df0a2-0f8b-401d-f748-5a4ce613ed55"
      },
      "execution_count": null,
      "outputs": [
        {
          "output_type": "stream",
          "name": "stdout",
          "text": [
            "Luar biasa! Nilai A\n"
          ]
        }
      ]
    },
    {
      "cell_type": "code",
      "source": [
        "#Menentukan jenis diskon berdasarkan hari\n",
        "hari : str = \"Sabtu\"\n",
        "if hari == \"Sabtu\" or hari == \"Minggu\":\n",
        "  diskon:float = 0.20 #Diskon 20%\n",
        "  print(f\"Selamat! Anda mendapat diskon akhir pekan sebesar {diskon*100}%.\")\n",
        "elif hari == \"Jumat\":\n",
        "  diskon:float = 0.15 #Diskon 15%\n",
        "  print(f\"Diskon spesial Jumat! Anda mendapat potongan {diskon*100}%.\")\n",
        "else:\n",
        "  diskon:float =0.05 #Diskon 5%\n",
        "  print(\"Anda mendapat diskon hari biasa sebesar {diskon*100}%.\")"
      ],
      "metadata": {
        "colab": {
          "base_uri": "https://localhost:8080/"
        },
        "id": "qRLEZWG3jIhQ",
        "outputId": "9515b801-16a8-4310-ac4d-83d7036eeac0"
      },
      "execution_count": null,
      "outputs": [
        {
          "output_type": "stream",
          "name": "stdout",
          "text": [
            "Selamat! Anda mendapat diskon akhir pekan sebesar 20.0%.\n"
          ]
        }
      ]
    },
    {
      "cell_type": "code",
      "source": [
        "rupiah = int(input(\"Masukkan jumlah uang (Rp): \"))\n",
        "print(\"1. Dollar (USD)\")\n",
        "print(\"2. Euro (EUR)\")\n",
        "print(\"3. Yen (JPY)\")\n",
        "pilih = int(input(\"Pilih konversi (1/2/3): \"))\n",
        "\n",
        "if pilih == 1:\n",
        "  print(\"Dalam Dollar:\",rupiah / 15000)\n",
        "elif pilih == 2:\n",
        "  print(\"Dalam Euro:\",rupiah / 16000)\n",
        "elif pilih == 3:\n",
        "  print(\"Dalam Yen:\",rupiah / 120)\n",
        "else:\n",
        "  print(\"Pilihan tidak valid\")"
      ],
      "metadata": {
        "colab": {
          "base_uri": "https://localhost:8080/"
        },
        "id": "GrO-HGmak5Hl",
        "outputId": "7fb726e3-745a-4612-b7a0-e26231a55d34"
      },
      "execution_count": null,
      "outputs": [
        {
          "output_type": "stream",
          "name": "stdout",
          "text": [
            "Masukkan jumlah uang (Rp): 30000\n",
            "1. Dollar (USD)\n",
            "2. Euro (EUR)\n",
            "3. Yen (JPY)\n",
            "Pilih konversi (1/2/3): 1\n",
            "Dalam Dollar: 2.0\n"
          ]
        }
      ]
    },
    {
      "cell_type": "code",
      "source": [
        "angka = int(input(\"Masukkan sebuah angka: \"))\n",
        "if angka % 5 == 0:\n",
        "    print(\"Kelipatan 5\")\n",
        "else:\n",
        "    print(\"Bukan kelipatan 5\")\n"
      ],
      "metadata": {
        "colab": {
          "base_uri": "https://localhost:8080/"
        },
        "id": "H1nEkUcZzC_w",
        "outputId": "ba106f29-95cc-4be1-b105-1ad08a15994f"
      },
      "execution_count": null,
      "outputs": [
        {
          "output_type": "stream",
          "name": "stdout",
          "text": [
            "Masukkan sebuah angka: 10\n",
            "Kelipatan 5\n"
          ]
        }
      ]
    },
    {
      "cell_type": "code",
      "source": [
        "tahun = int(input(\"Masukkan tahun: \"))\n",
        "\n",
        "if tahun % 400 == 0:\n",
        "    print(\"Tahun Kabisat\")\n",
        "elif tahun % 4 == 0 and tahun % 100 != 0:\n",
        "    print(\"Tahun Kabisat\")\n",
        "else:\n",
        "    print(\"Bukan Tahun Kabisat\")\n"
      ],
      "metadata": {
        "colab": {
          "base_uri": "https://localhost:8080/"
        },
        "id": "YEC5TadFzHzA",
        "outputId": "54c83cbc-c5fc-4d37-adbd-0e934b42827f"
      },
      "execution_count": null,
      "outputs": [
        {
          "output_type": "stream",
          "name": "stdout",
          "text": [
            "Masukkan tahun: 2024\n",
            "Tahun Kabisat\n"
          ]
        }
      ]
    },
    {
      "cell_type": "code",
      "source": [
        "print(\"Soal: 7 + 8 = ?\")\n",
        "jawaban = int(input(\"Masukkan jawaban: \"))\n",
        "\n",
        "if jawaban == 15:\n",
        "    print(\"Benar!\")\n",
        "else:\n",
        "    print(\"Salah!\")\n"
      ],
      "metadata": {
        "colab": {
          "base_uri": "https://localhost:8080/"
        },
        "id": "B6CNNpJcz5qA",
        "outputId": "b017e9a2-747f-4853-c093-3ef3c66b5b50"
      },
      "execution_count": null,
      "outputs": [
        {
          "output_type": "stream",
          "name": "stdout",
          "text": [
            "Soal: 7 + 8 = ?\n",
            "Masukkan jawaban: 15\n",
            "Benar!\n"
          ]
        }
      ]
    },
    {
      "cell_type": "code",
      "source": [
        "bulan = int(input(\"Masukkan angka bulan (1-12): \"))\n",
        "\n",
        "if bulan == 1:\n",
        "    print(\"Januari\")\n",
        "elif bulan == 2:\n",
        "    print(\"Februari\")\n",
        "elif bulan == 3:\n",
        "    print(\"Maret\")\n",
        "elif bulan == 4:\n",
        "    print(\"April\")\n",
        "elif bulan == 5:\n",
        "    print(\"Mei\")\n",
        "elif bulan == 6:\n",
        "    print(\"Juni\")\n",
        "elif bulan == 7:\n",
        "    print(\"Juli\")\n",
        "elif bulan == 8:\n",
        "    print(\"Agustus\")\n",
        "elif bulan == 9:\n",
        "    print(\"September\")\n",
        "elif bulan == 10:\n",
        "    print(\"Oktober\")\n",
        "elif bulan == 11:\n",
        "    print(\"November\")\n",
        "elif bulan == 12:\n",
        "    print(\"Desember\")\n",
        "else:\n",
        "    print(\"Input salah\")\n"
      ],
      "metadata": {
        "colab": {
          "base_uri": "https://localhost:8080/"
        },
        "id": "rbwTtCxY1r16",
        "outputId": "7ff206b5-542e-4257-c5bf-512aa545c441"
      },
      "execution_count": null,
      "outputs": [
        {
          "output_type": "stream",
          "name": "stdout",
          "text": [
            "Masukkan angka bulan (1-12): 11\n",
            "November\n"
          ]
        }
      ]
    },
    {
      "cell_type": "code",
      "source": [
        "#Menggunakan Versi List\n",
        "bulan = int(input(\"Masukkan angka bulan (1-12): \"))\n",
        "\n",
        "nama_bulan = [\n",
        "    \"Januari\", \"Februari\", \"Maret\", \"April\", \"Mei\", \"Juni\",\n",
        "    \"Juli\", \"Agustus\", \"September\", \"Oktober\", \"November\", \"Desember\"\n",
        "]\n",
        "\n",
        "if 1 <= bulan <= 12:\n",
        "    print(nama_bulan[bulan-1])   # index dikurangi 1 karena list mulai dari 0\n",
        "else:\n",
        "    print(\"Input salah\")\n"
      ],
      "metadata": {
        "colab": {
          "base_uri": "https://localhost:8080/"
        },
        "id": "DF4OHUv42HlU",
        "outputId": "f75bcb36-ae48-4f47-c127-36f4ce901054"
      },
      "execution_count": null,
      "outputs": [
        {
          "output_type": "stream",
          "name": "stdout",
          "text": [
            "Masukkan angka bulan (1-12): 11\n",
            "November\n"
          ]
        }
      ]
    },
    {
      "cell_type": "code",
      "source": [
        "jam = int(input(\"Masukkan jam (0-23): \"))\n",
        "\n",
        "if 0 <= jam <= 11:\n",
        "    print(\"Selamat Pagi\")\n",
        "elif 12 <= jam <= 15:\n",
        "    print(\"Selamat Siang\")\n",
        "elif 16 <= jam <= 18:\n",
        "    print(\"Selamat Sore\")\n",
        "elif 19 <= jam <= 23:\n",
        "    print(\"Selamat Malam\")\n",
        "else:\n",
        "    print(\"Input salah\")\n"
      ],
      "metadata": {
        "colab": {
          "base_uri": "https://localhost:8080/"
        },
        "id": "kpCAYzyU2q-e",
        "outputId": "8eb363c0-b295-40a8-b358-7b4f6e120025"
      },
      "execution_count": null,
      "outputs": [
        {
          "output_type": "stream",
          "name": "stdout",
          "text": [
            "Masukkan jam (0-23): 12\n",
            "Selamat Siang\n"
          ]
        }
      ]
    },
    {
      "cell_type": "code",
      "source": [
        "#Total belanja 70%\n",
        "print(\"===============================\")\n",
        "print(\"SELAMAT DATANG DI KAFE GREEN\")\n",
        "print(\"===============================\")\n",
        "\n",
        "print(\"Menu Makanan & Minuman:\")\n",
        "print(\"1. Kopi Hitam = Rp 12000\")\n",
        "print(\"2. Teh Manis  = Rp 8000\")\n",
        "print(\"3. Roti Bakar = Rp 15000\")\n",
        "print(\"4. Mie Instan = Rp 10000\")\n",
        "\n",
        "pilihan_str = input(\"Silakan masukkan nomor pilihan Anda (1-4): \")\n",
        "pilihan_int = int(pilihan_str)\n",
        "nama_pesanan = \"\"\n",
        "harga = 0\n",
        "\n",
        "if pilihan_int == 1:\n",
        "    nama_pesanan = \"Kopi Hitam\"\n",
        "    harga = 12000\n",
        "elif pilihan_int == 2:\n",
        "    nama_pesanan = \"Teh Manis\"\n",
        "    harga = 8000\n",
        "elif pilihan_int == 3:\n",
        "    nama_pesanan = \"Roti Bakar\"\n",
        "    harga = 15000\n",
        "elif pilihan_int == 4:\n",
        "    nama_pesanan = \"Mie Instan\"\n",
        "    harga = 10000\n",
        "else:\n",
        "    print(\"Maaf, pilihan menu tidak valid.\")\n",
        "    exit()\n",
        "\n",
        "jumlah = int(input(\"Masukkan jumlah pesanan: \"))\n",
        "total = harga * jumlah\n",
        "\n",
        "# ====== Logika Diskon ======\n",
        "if total >= 50000:\n",
        "    diskon = 0.7\n",
        "    kategori = \"70%\"\n",
        "elif total >= 30000:\n",
        "    diskon = 0.5\n",
        "    kategori = \"50%\"\n",
        "elif total >= 20000:\n",
        "    diskon = 0.3\n",
        "    kategori = \"30%\"\n",
        "else:\n",
        "    diskon = 0\n",
        "    kategori = \"0%\"\n",
        "\n",
        "potongan = total * diskon\n",
        "total_bayar = total - potongan\n",
        "\n",
        "print(\"\\n===============================\")\n",
        "print(f\"Pesanan Anda : {nama_pesanan}\")\n",
        "print(f\"Jumlah       : {jumlah}\")\n",
        "print(f\"Total awal   : Rp {total}\")\n",
        "print(f\"Diskon ({kategori}) : Rp {potongan}\")\n",
        "print(f\"Total Bayar  : Rp {total_bayar}\")\n",
        "print(\"===============================\")\n",
        "\n",
        "uang_dibayar = int(input(\"Masukkan uang yang dibayar: Rp \"))\n",
        "if uang_dibayar >= total_bayar:\n",
        "    kembalian = uang_dibayar - total_bayar\n",
        "    print(f\"Kembalian Anda: Rp {kembalian}\")\n",
        "    print(\"Terima kasih telah berbelanja!\")\n",
        "else:\n",
        "    kurang = total_bayar - uang_dibayar\n",
        "    print(f\"Maaf, uang Anda kurang sebesar Rp {kurang}\")\n"
      ],
      "metadata": {
        "colab": {
          "base_uri": "https://localhost:8080/"
        },
        "id": "b9Dep_5tuvNp",
        "outputId": "a3fcbf2c-87e3-4ac3-8340-8b2bb0f04f7a"
      },
      "execution_count": 1,
      "outputs": [
        {
          "output_type": "stream",
          "name": "stdout",
          "text": [
            "===============================\n",
            "SELAMAT DATANG DI KAFE GREEN\n",
            "===============================\n",
            "Menu Makanan & Minuman:\n",
            "1. Kopi Hitam = Rp 12000\n",
            "2. Teh Manis  = Rp 8000\n",
            "3. Roti Bakar = Rp 15000\n",
            "4. Mie Instan = Rp 10000\n",
            "Silakan masukkan nomor pilihan Anda (1-4): 3\n",
            "Masukkan jumlah pesanan: 5\n",
            "\n",
            "===============================\n",
            "Pesanan Anda : Roti Bakar\n",
            "Jumlah       : 5\n",
            "Total awal   : Rp 75000\n",
            "Diskon (70%) : Rp 52500.0\n",
            "Total Bayar  : Rp 22500.0\n",
            "===============================\n",
            "Masukkan uang yang dibayar: Rp 30000\n",
            "Kembalian Anda: Rp 7500.0\n",
            "Terima kasih telah berbelanja!\n"
          ]
        }
      ]
    },
    {
      "cell_type": "code",
      "source": [
        "#Total belanja 50%\n",
        "print(\"===============================\")\n",
        "print(\"SELAMAT DATANG DI KAFE GREEN\")\n",
        "print(\"===============================\")\n",
        "\n",
        "print(\"Menu Makanan & Minuman:\")\n",
        "print(\"1. Kopi Hitam = Rp 12000\")\n",
        "print(\"2. Teh Manis  = Rp 8000\")\n",
        "print(\"3. Roti Bakar = Rp 15000\")\n",
        "print(\"4. Mie Instan = Rp 10000\")\n",
        "\n",
        "pilihan_str = input(\"Silakan masukkan nomor pilihan Anda (1-4): \")\n",
        "pilihan_int = int(pilihan_str)\n",
        "nama_pesanan = \"\"\n",
        "harga = 0\n",
        "\n",
        "if pilihan_int == 1:\n",
        "    nama_pesanan = \"Kopi Hitam\"\n",
        "    harga = 12000\n",
        "elif pilihan_int == 2:\n",
        "    nama_pesanan = \"Teh Manis\"\n",
        "    harga = 8000\n",
        "elif pilihan_int == 3:\n",
        "    nama_pesanan = \"Roti Bakar\"\n",
        "    harga = 15000\n",
        "elif pilihan_int == 4:\n",
        "    nama_pesanan = \"Mie Instan\"\n",
        "    harga = 10000\n",
        "else:\n",
        "    print(\"Maaf, pilihan menu tidak valid.\")\n",
        "    exit()\n",
        "\n",
        "jumlah = int(input(\"Masukkan jumlah pesanan: \"))\n",
        "total = harga * jumlah\n",
        "\n",
        "# ====== Logika Diskon ======\n",
        "if total >= 50000:\n",
        "    diskon = 0.7\n",
        "    kategori = \"70%\"\n",
        "elif total >= 30000:\n",
        "    diskon = 0.5\n",
        "    kategori = \"50%\"\n",
        "elif total >= 20000:\n",
        "    diskon = 0.3\n",
        "    kategori = \"30%\"\n",
        "else:\n",
        "    diskon = 0\n",
        "    kategori = \"0%\"\n",
        "\n",
        "potongan = total * diskon\n",
        "total_bayar = total - potongan\n",
        "\n",
        "print(\"\\n===============================\")\n",
        "print(f\"Pesanan Anda : {nama_pesanan}\")\n",
        "print(f\"Jumlah       : {jumlah}\")\n",
        "print(f\"Total awal   : Rp {total}\")\n",
        "print(f\"Diskon ({kategori}) : Rp {potongan}\")\n",
        "print(f\"Total Bayar  : Rp {total_bayar}\")\n",
        "print(\"===============================\")\n",
        "\n",
        "uang_dibayar = int(input(\"Masukkan uang yang dibayar: Rp \"))\n",
        "if uang_dibayar >= total_bayar:\n",
        "    kembalian = uang_dibayar - total_bayar\n",
        "    print(f\"Kembalian Anda: Rp {kembalian}\")\n",
        "    print(\"Terima kasih telah berbelanja!\")\n",
        "else:\n",
        "    kurang = total_bayar - uang_dibayar\n",
        "    print(f\"Maaf, uang Anda kurang sebesar Rp {kurang}\")\n"
      ],
      "metadata": {
        "colab": {
          "base_uri": "https://localhost:8080/"
        },
        "id": "PSyYTn3LvD17",
        "outputId": "30ea2e99-6c71-49cd-ea96-ca3640ac669c"
      },
      "execution_count": 2,
      "outputs": [
        {
          "output_type": "stream",
          "name": "stdout",
          "text": [
            "===============================\n",
            "SELAMAT DATANG DI KAFE GREEN\n",
            "===============================\n",
            "Menu Makanan & Minuman:\n",
            "1. Kopi Hitam = Rp 12000\n",
            "2. Teh Manis  = Rp 8000\n",
            "3. Roti Bakar = Rp 15000\n",
            "4. Mie Instan = Rp 10000\n",
            "Silakan masukkan nomor pilihan Anda (1-4): 1\n",
            "Masukkan jumlah pesanan: 3\n",
            "\n",
            "===============================\n",
            "Pesanan Anda : Kopi Hitam\n",
            "Jumlah       : 3\n",
            "Total awal   : Rp 36000\n",
            "Diskon (50%) : Rp 18000.0\n",
            "Total Bayar  : Rp 18000.0\n",
            "===============================\n",
            "Masukkan uang yang dibayar: Rp 20000\n",
            "Kembalian Anda: Rp 2000.0\n",
            "Terima kasih telah berbelanja!\n"
          ]
        }
      ]
    },
    {
      "cell_type": "code",
      "source": [
        "#Total belanja 30%\n",
        "print(\"===============================\")\n",
        "print(\"SELAMAT DATANG DI KAFE GREEN\")\n",
        "print(\"===============================\")\n",
        "\n",
        "print(\"Menu Makanan & Minuman:\")\n",
        "print(\"1. Kopi Hitam = Rp 12000\")\n",
        "print(\"2. Teh Manis  = Rp 8000\")\n",
        "print(\"3. Roti Bakar = Rp 15000\")\n",
        "print(\"4. Mie Instan = Rp 10000\")\n",
        "\n",
        "pilihan_str = input(\"Silakan masukkan nomor pilihan Anda (1-4): \")\n",
        "pilihan_int = int(pilihan_str)\n",
        "nama_pesanan = \"\"\n",
        "harga = 0\n",
        "\n",
        "if pilihan_int == 1:\n",
        "    nama_pesanan = \"Kopi Hitam\"\n",
        "    harga = 12000\n",
        "elif pilihan_int == 2:\n",
        "    nama_pesanan = \"Teh Manis\"\n",
        "    harga = 8000\n",
        "elif pilihan_int == 3:\n",
        "    nama_pesanan = \"Roti Bakar\"\n",
        "    harga = 15000\n",
        "elif pilihan_int == 4:\n",
        "    nama_pesanan = \"Mie Instan\"\n",
        "    harga = 10000\n",
        "else:\n",
        "    print(\"Maaf, pilihan menu tidak valid.\")\n",
        "    exit()\n",
        "\n",
        "jumlah = int(input(\"Masukkan jumlah pesanan: \"))\n",
        "total = harga * jumlah\n",
        "\n",
        "# ====== Logika Diskon ======\n",
        "if total >= 50000:\n",
        "    diskon = 0.7\n",
        "    kategori = \"70%\"\n",
        "elif total >= 30000:\n",
        "    diskon = 0.5\n",
        "    kategori = \"50%\"\n",
        "elif total >= 20000:\n",
        "    diskon = 0.3\n",
        "    kategori = \"30%\"\n",
        "else:\n",
        "    diskon = 0\n",
        "    kategori = \"0%\"\n",
        "\n",
        "potongan = total * diskon\n",
        "total_bayar = total - potongan\n",
        "\n",
        "print(\"\\n===============================\")\n",
        "print(f\"Pesanan Anda : {nama_pesanan}\")\n",
        "print(f\"Jumlah       : {jumlah}\")\n",
        "print(f\"Total awal   : Rp {total}\")\n",
        "print(f\"Diskon ({kategori}) : Rp {potongan}\")\n",
        "print(f\"Total Bayar  : Rp {total_bayar}\")\n",
        "print(\"===============================\")\n",
        "\n",
        "uang_dibayar = int(input(\"Masukkan uang yang dibayar: Rp \"))\n",
        "if uang_dibayar >= total_bayar:\n",
        "    kembalian = uang_dibayar - total_bayar\n",
        "    print(f\"Kembalian Anda: Rp {kembalian}\")\n",
        "    print(\"Terima kasih telah berbelanja!\")\n",
        "else:\n",
        "    kurang = total_bayar - uang_dibayar\n",
        "    print(f\"Maaf, uang Anda kurang sebesar Rp {kurang}\")\n"
      ],
      "metadata": {
        "colab": {
          "base_uri": "https://localhost:8080/"
        },
        "id": "10e-nrfmvevN",
        "outputId": "d59cc834-264d-4382-852d-096331bc877b"
      },
      "execution_count": 3,
      "outputs": [
        {
          "output_type": "stream",
          "name": "stdout",
          "text": [
            "===============================\n",
            "SELAMAT DATANG DI KAFE GREEN\n",
            "===============================\n",
            "Menu Makanan & Minuman:\n",
            "1. Kopi Hitam = Rp 12000\n",
            "2. Teh Manis  = Rp 8000\n",
            "3. Roti Bakar = Rp 15000\n",
            "4. Mie Instan = Rp 10000\n",
            "Silakan masukkan nomor pilihan Anda (1-4): 2\n",
            "Masukkan jumlah pesanan: 3\n",
            "\n",
            "===============================\n",
            "Pesanan Anda : Teh Manis\n",
            "Jumlah       : 3\n",
            "Total awal   : Rp 24000\n",
            "Diskon (30%) : Rp 7200.0\n",
            "Total Bayar  : Rp 16800.0\n",
            "===============================\n",
            "Masukkan uang yang dibayar: Rp 20000\n",
            "Kembalian Anda: Rp 3200.0\n",
            "Terima kasih telah berbelanja!\n"
          ]
        }
      ]
    },
    {
      "cell_type": "code",
      "source": [
        "#Total belanja tidak dapat diskon\n",
        "print(\"===============================\")\n",
        "print(\"SELAMAT DATANG DI KAFE GREEN\")\n",
        "print(\"===============================\")\n",
        "\n",
        "print(\"Menu Makanan & Minuman:\")\n",
        "print(\"1. Kopi Hitam = Rp 12000\")\n",
        "print(\"2. Teh Manis  = Rp 8000\")\n",
        "print(\"3. Roti Bakar = Rp 15000\")\n",
        "print(\"4. Mie Instan = Rp 10000\")\n",
        "\n",
        "pilihan_str = input(\"Silakan masukkan nomor pilihan Anda (1-4): \")\n",
        "pilihan_int = int(pilihan_str)\n",
        "nama_pesanan = \"\"\n",
        "harga = 0\n",
        "\n",
        "if pilihan_int == 1:\n",
        "    nama_pesanan = \"Kopi Hitam\"\n",
        "    harga = 12000\n",
        "elif pilihan_int == 2:\n",
        "    nama_pesanan = \"Teh Manis\"\n",
        "    harga = 8000\n",
        "elif pilihan_int == 3:\n",
        "    nama_pesanan = \"Roti Bakar\"\n",
        "    harga = 15000\n",
        "elif pilihan_int == 4:\n",
        "    nama_pesanan = \"Mie Instan\"\n",
        "    harga = 10000\n",
        "else:\n",
        "    print(\"Maaf, pilihan menu tidak valid.\")\n",
        "    exit()\n",
        "\n",
        "jumlah = int(input(\"Masukkan jumlah pesanan: \"))\n",
        "total = harga * jumlah\n",
        "\n",
        "# ====== Logika Diskon ======\n",
        "if total >= 50000:\n",
        "    diskon = 0.7\n",
        "    kategori = \"70%\"\n",
        "elif total >= 30000:\n",
        "    diskon = 0.5\n",
        "    kategori = \"50%\"\n",
        "elif total >= 20000:\n",
        "    diskon = 0.3\n",
        "    kategori = \"30%\"\n",
        "else:\n",
        "    diskon = 0\n",
        "    kategori = \"0%\"\n",
        "\n",
        "potongan = total * diskon\n",
        "total_bayar = total - potongan\n",
        "\n",
        "print(\"\\n===============================\")\n",
        "print(f\"Pesanan Anda : {nama_pesanan}\")\n",
        "print(f\"Jumlah       : {jumlah}\")\n",
        "print(f\"Total awal   : Rp {total}\")\n",
        "print(f\"Diskon ({kategori}) : Rp {potongan}\")\n",
        "print(f\"Total Bayar  : Rp {total_bayar}\")\n",
        "print(\"===============================\")\n",
        "\n",
        "uang_dibayar = int(input(\"Masukkan uang yang dibayar: Rp \"))\n",
        "if uang_dibayar >= total_bayar:\n",
        "    kembalian = uang_dibayar - total_bayar\n",
        "    print(f\"Kembalian Anda: Rp {kembalian}\")\n",
        "    print(\"Terima kasih telah berbelanja!\")\n",
        "else:\n",
        "    kurang = total_bayar - uang_dibayar\n",
        "    print(f\"Maaf, uang Anda kurang sebesar Rp {kurang}\")\n"
      ],
      "metadata": {
        "colab": {
          "base_uri": "https://localhost:8080/"
        },
        "id": "dSzBjlAIvpZW",
        "outputId": "31033ec7-5353-4eeb-9d95-93027e147cdf"
      },
      "execution_count": 4,
      "outputs": [
        {
          "output_type": "stream",
          "name": "stdout",
          "text": [
            "===============================\n",
            "SELAMAT DATANG DI KAFE GREEN\n",
            "===============================\n",
            "Menu Makanan & Minuman:\n",
            "1. Kopi Hitam = Rp 12000\n",
            "2. Teh Manis  = Rp 8000\n",
            "3. Roti Bakar = Rp 15000\n",
            "4. Mie Instan = Rp 10000\n",
            "Silakan masukkan nomor pilihan Anda (1-4): 4\n",
            "Masukkan jumlah pesanan: 1\n",
            "\n",
            "===============================\n",
            "Pesanan Anda : Mie Instan\n",
            "Jumlah       : 1\n",
            "Total awal   : Rp 10000\n",
            "Diskon (0%) : Rp 0\n",
            "Total Bayar  : Rp 10000\n",
            "===============================\n",
            "Masukkan uang yang dibayar: Rp 20000\n",
            "Kembalian Anda: Rp 10000\n",
            "Terima kasih telah berbelanja!\n"
          ]
        }
      ]
    }
  ]
}