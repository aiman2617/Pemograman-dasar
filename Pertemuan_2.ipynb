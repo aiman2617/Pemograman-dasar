{
  "nbformat": 4,
  "nbformat_minor": 0,
  "metadata": {
    "colab": {
      "provenance": [],
      "authorship_tag": "ABX9TyOFh8yO5nnNF0JTVDRgIPxw",
      "include_colab_link": true
    },
    "kernelspec": {
      "name": "python3",
      "display_name": "Python 3"
    },
    "language_info": {
      "name": "python"
    }
  },
  "cells": [
    {
      "cell_type": "markdown",
      "metadata": {
        "id": "view-in-github",
        "colab_type": "text"
      },
      "source": [
        "<a href=\"https://colab.research.google.com/github/aiman2617/Pemograman-dasar/blob/main/Pertemuan_2.ipynb\" target=\"_parent\"><img src=\"https://colab.research.google.com/assets/colab-badge.svg\" alt=\"Open In Colab\"/></a>"
      ]
    },
    {
      "cell_type": "code",
      "execution_count": null,
      "metadata": {
        "colab": {
          "base_uri": "https://localhost:8080/"
        },
        "id": "SD51PVOyLf5c",
        "outputId": "4b2b3fbd-d316-417c-9a0f-4b43c5034ddc"
      },
      "outputs": [
        {
          "output_type": "stream",
          "name": "stdout",
          "text": [
            "[23, 43, 15, 34]\n",
            "23\n",
            "43\n",
            "51\n",
            "34\n",
            "[23, 43, 51, 34]\n"
          ]
        }
      ],
      "source": [
        "# deklarasi variabel list\n",
        "numbers = [23,43,15,34]\n",
        "\n",
        "print (numbers)\n",
        "#cara mengakses elemen dalam variabel\n",
        "numbers[0] #23\n",
        "numbers[1] #43\n",
        "numbers[2] #15\n",
        "numbers[3] #34\n",
        "\n",
        "#cara mengubah nilai elemen dalam variabel list\n",
        "numbers[2] =51\n",
        "numbers[2] #51\n",
        "\n",
        "print (numbers[0])\n",
        "print (numbers[1])\n",
        "print (numbers[2])\n",
        "print (numbers[3])\n",
        "print (numbers)"
      ]
    },
    {
      "cell_type": "code",
      "source": [
        "#deklarasi variabel list numbers\n",
        "numbers = [1,2,3]\n",
        "\n",
        "print (numbers)\n",
        "#menambahkan elemen di indeks ke -4\n",
        "numbers.insert(4,5,)    #[1,2,3,4,5]\n",
        "\n",
        "print (numbers)\n",
        "#mengubah elemen di indeks ke -4\n",
        "numbers[3] = 4         #[1,2,3,4]\n",
        "\n",
        "print (numbers)\n",
        "#menghapus elemen di indeks ke -2\n",
        "numbers.pop(2)         #[1,2,4]\n",
        "\n",
        "print (numbers)\n",
        "\n",
        "\n",
        "\n",
        "\n"
      ],
      "metadata": {
        "colab": {
          "base_uri": "https://localhost:8080/"
        },
        "id": "ofGs7yYoZAL3",
        "outputId": "58ff2c7c-a7ec-432f-fe11-ef8568b78241"
      },
      "execution_count": null,
      "outputs": [
        {
          "output_type": "stream",
          "name": "stdout",
          "text": [
            "[1, 2, 3]\n",
            "[1, 2, 3, 5]\n",
            "[1, 2, 3, 4]\n",
            "[1, 2, 4]\n"
          ]
        }
      ]
    },
    {
      "cell_type": "code",
      "source": [
        "#TODO\n",
        "# Membuat variabel sesuai instruksi\n",
        "firstName = \"Aiman\"\n",
        "lastName = \"Riyadhi\"\n",
        "age = 21\n",
        "isMarried = False\n",
        "\n",
        "# Menampilkan hasil dengan fungsi print\n",
        "print(\"Nama Depan :\", firstName)\n",
        "print(\"Nama Belakang :\", lastName)\n",
        "print(\"Umur :\", age)\n",
        "print(\"Status Menikah :\", isMarried)\n"
      ],
      "metadata": {
        "colab": {
          "base_uri": "https://localhost:8080/"
        },
        "id": "Y4nfcPn6b65y",
        "outputId": "0647bde8-0712-4b4e-c26a-d28290eea49a"
      },
      "execution_count": 1,
      "outputs": [
        {
          "output_type": "stream",
          "name": "stdout",
          "text": [
            "Nama Depan : Aiman\n",
            "Nama Belakang : Riyadhi\n",
            "Umur : 21\n",
            "Status Menikah : False\n"
          ]
        }
      ]
    },
    {
      "cell_type": "code",
      "source": [
        "#TODO\n",
        "datadiri = {'First name':'Aiman','Age':21,'Is married':False}\n",
        "print (datadiri)"
      ],
      "metadata": {
        "colab": {
          "base_uri": "https://localhost:8080/"
        },
        "id": "N-tSDm96dZdq",
        "outputId": "b7b2c838-de14-48ea-a4b2-8118313a9922"
      },
      "execution_count": 2,
      "outputs": [
        {
          "output_type": "stream",
          "name": "stdout",
          "text": [
            "{'First name': 'Aiman', 'Age': 21, 'Is married': False}\n"
          ]
        }
      ]
    },
    {
      "cell_type": "code",
      "source": [
        "#TODO\n",
        "# Membuat variabel inspeksi berupa list yang menyimpan daftar inspeksi\n",
        "inspeksi = [\n",
        "    \"Pemahaman terhadap rencana dan desain\",\n",
        "    \"Ketersediaan bahan dan peralatan\",\n",
        "    \"Pengawasan pekerjaan\",\n",
        "    \"Kualitas konstruksi\",\n",
        "    \"Keselamatan kerja\",\n",
        "    \"Koordinasi dengan pemilik proyek\"\n",
        "]\n",
        "\n",
        "print(\"Daftar Inspeksi Proyek:\")\n",
        "for item in inspeksi:\n",
        "    print(f\"- {item}\")\n"
      ],
      "metadata": {
        "colab": {
          "base_uri": "https://localhost:8080/"
        },
        "id": "5w9e7lUWlkDT",
        "outputId": "f6cf2b7f-df1b-45a6-dcf1-7cf791e3902b"
      },
      "execution_count": null,
      "outputs": [
        {
          "output_type": "stream",
          "name": "stdout",
          "text": [
            "Daftar Inspeksi Proyek:\n",
            "- Pemahaman terhadap rencana dan desain\n",
            "- Ketersediaan bahan dan peralatan\n",
            "- Pengawasan pekerjaan\n",
            "- Kualitas konstruksi\n",
            "- Keselamatan kerja\n",
            "- Koordinasi dengan pemilik proyek\n"
          ]
        }
      ]
    },
    {
      "cell_type": "code",
      "source": [
        "# Membuat dictionary untuk waktu datang\n",
        "startTime = {\n",
        "    \"HH\": 9,\n",
        "    \"mm\": 57,\n",
        "    \"ss\": 57\n",
        "}\n",
        "\n",
        "# Membuat dictionary untuk waktu pulang\n",
        "endTime = {\n",
        "    \"HH\": 15,\n",
        "    \"mm\": 25,\n",
        "    \"ss\": 43\n",
        "}\n",
        "\n",
        "print(\"Waktu Datang (startTime):\", startTime)\n",
        "print(\"Waktu Pulang (endTime):\", endTime)\n"
      ],
      "metadata": {
        "colab": {
          "base_uri": "https://localhost:8080/"
        },
        "id": "aLDUo6fvo-Yd",
        "outputId": "8a94e030-b8ed-4771-fca2-2ca76f52ad9c"
      },
      "execution_count": null,
      "outputs": [
        {
          "output_type": "stream",
          "name": "stdout",
          "text": [
            "Waktu Datang (startTime): {'HH': 9, 'mm': 57, 'ss': 57}\n",
            "Waktu Pulang (endTime): {'HH': 15, 'mm': 25, 'ss': 43}\n"
          ]
        }
      ]
    },
    {
      "cell_type": "code",
      "source": [
        "# Data awal\n",
        "katalog_A = {\"Laptop\", \"Printer\", \"Mouse\", \"Keyboard\"}\n",
        "katalog_B = {\"Monitor\", \"Laptop\", \"Tablet\", \"Printer\"}\n",
        "produk_diskon = (\"Laptop\", \"Tablet\", \"Mouse\")\n",
        "\n",
        "# 1. Gabungkan katalog A dan B\n",
        "katalog_lengkap = katalog_A.union(katalog_B)\n",
        "print(\"Katalog Lengkap:\", katalog_lengkap)\n",
        "\n",
        "# 2. Cari produk yang ada di katalog_lengkap dan juga sedang diskon\n",
        "produk_promo_aktif = katalog_lengkap.intersection(produk_diskon)\n",
        "print(\"Produk Promo Aktif:\", produk_promo_aktif)\n"
      ],
      "metadata": {
        "colab": {
          "base_uri": "https://localhost:8080/"
        },
        "id": "eQD8-tZfzfOd",
        "outputId": "9a718254-8a0b-4432-93eb-32231c4e9f63"
      },
      "execution_count": null,
      "outputs": [
        {
          "output_type": "stream",
          "name": "stdout",
          "text": [
            "Katalog Lengkap: {'Tablet', 'Monitor', 'Keyboard', 'Mouse', 'Printer', 'Laptop'}\n",
            "Produk Promo Aktif: {'Mouse', 'Tablet', 'Laptop'}\n"
          ]
        }
      ]
    }
  ]
}