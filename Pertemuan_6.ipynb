{
  "nbformat": 4,
  "nbformat_minor": 0,
  "metadata": {
    "colab": {
      "provenance": [],
      "authorship_tag": "ABX9TyPm4to/77mfZdDZ26Z9acfc",
      "include_colab_link": true
    },
    "kernelspec": {
      "name": "python3",
      "display_name": "Python 3"
    },
    "language_info": {
      "name": "python"
    }
  },
  "cells": [
    {
      "cell_type": "markdown",
      "metadata": {
        "id": "view-in-github",
        "colab_type": "text"
      },
      "source": [
        "<a href=\"https://colab.research.google.com/github/aiman2617/Pemograman-dasar/blob/main/Pertemuan_6.ipynb\" target=\"_parent\"><img src=\"https://colab.research.google.com/assets/colab-badge.svg\" alt=\"Open In Colab\"/></a>"
      ]
    },
    {
      "cell_type": "code",
      "source": [
        "# SOAL 1: Fungsi Inisialisasi Sederhana\n",
        "def sapa_praktikan():\n",
        "    \"\"\"Mencetak pesan sambutan dasar.\"\"\"\n",
        "    print(\"Sistem siap. Selamat datang kembali di sesi praktikum.\")\n",
        "\n",
        "# Pemanggilan:\n",
        "sapa_praktikan()"
      ],
      "metadata": {
        "colab": {
          "base_uri": "https://localhost:8080/"
        },
        "id": "-oFAEfGqkDjy",
        "outputId": "7f1ed600-1edd-48a7-8a82-8340d0003b7c"
      },
      "execution_count": null,
      "outputs": [
        {
          "output_type": "stream",
          "name": "stdout",
          "text": [
            "Sistem siap. Selamat datang kembali di sesi praktikum.\n"
          ]
        }
      ]
    },
    {
      "cell_type": "code",
      "source": [
        "# SOAL 1: Fungsi Inisialisasi Sederhana\n",
        "def biodata():\n",
        "  print(\"Biodata saya\")\n",
        "  print(\"Nama    : Aiman Fitra Riyadhi\")\n",
        "  print(\"Kelas   : RPE MALAM B\")\n",
        "  print(\"NIM     : 4232411058\")\n",
        "  print(\"Jurusan : Teknik Elektro\")\n",
        "\n",
        "\n",
        "\n",
        "# Pemanggilan:\n",
        "biodata()"
      ],
      "metadata": {
        "colab": {
          "base_uri": "https://localhost:8080/"
        },
        "id": "2qOSq369hMCh",
        "outputId": "6a8accb9-ca98-4365-a4a4-cf7be6b4e49a"
      },
      "execution_count": 2,
      "outputs": [
        {
          "output_type": "stream",
          "name": "stdout",
          "text": [
            "Biodata saya\n",
            "Nama    : Aiman Fitra Riyadhi\n",
            "Kelas   : RPE MALAM B\n",
            "NIM     : 4232411058\n",
            "Jurusan : Teknik Elektro\n"
          ]
        }
      ]
    },
    {
      "cell_type": "code",
      "source": [
        "# SOAL 2: Menghitung Volume Kubus\n",
        "def hitung_volume_kubus(sisi):\n",
        "    \"\"\"Menghitung volume kubus dari panjang sisinya.\"\"\"\n",
        "    return sisi **3\n",
        "\n",
        "# Pemanggilan:\n",
        "panjang_sisi = 5\n",
        "print(f\"Volume kubus dengan sisi {panjang_sisi} adalah: {hitung_volume_kubus(panjang_sisi)}\")"
      ],
      "metadata": {
        "colab": {
          "base_uri": "https://localhost:8080/"
        },
        "id": "TX1msEgGq1zA",
        "outputId": "047d9e43-6ddb-42e7-8e91-2ad1c3a23954"
      },
      "execution_count": null,
      "outputs": [
        {
          "output_type": "stream",
          "name": "stdout",
          "text": [
            "Volume kubus dengan sisi 5 adalah: 125\n"
          ]
        }
      ]
    },
    {
      "cell_type": "code",
      "source": [
        "# MODIFIKASI: Menghitung Volume Balok\n",
        "def hitung_volume_balok(panjang, lebar, tinggi):\n",
        "    \"\"\"Menghitung volume balok dari panjang, lebar, dan tinggi.\"\"\"\n",
        "    return panjang * lebar * tinggi\n",
        "\n",
        "# Pemanggilan fungsi\n",
        "p = 10\n",
        "l = 4\n",
        "t = 3\n",
        "print(f\"Volume balok dengan ukuran {p}x{l}x{t} adalah: {hitung_volume_balok(p, l, t)}\")\n"
      ],
      "metadata": {
        "colab": {
          "base_uri": "https://localhost:8080/"
        },
        "id": "IshAx4tp0qW4",
        "outputId": "b7168a5d-8911-4c63-83ca-85579b23ef9a"
      },
      "execution_count": 3,
      "outputs": [
        {
          "output_type": "stream",
          "name": "stdout",
          "text": [
            "Volume balok dengan ukuran 10x4x3 adalah: 120\n"
          ]
        }
      ]
    },
    {
      "cell_type": "code",
      "source": [
        "# SOAL 3: Menghitung Rata-rata dari List Nilai\n",
        "def hitung_rata_rata(data_nilai):\n",
        "    \"\"\"Menghitung rata-rata dari list angka menggunakan perulangan for.\"\"\"\n",
        "    total = 0  # variabel untuk menyimpan jumlah total nilai\n",
        "\n",
        "    # Perulangan untuk menambahkan setiap nilai ke total\n",
        "    for nilai in data_nilai:\n",
        "        total += nilai\n",
        "\n",
        "    # Pembagian untuk mencari rata-rata\n",
        "    if len(data_nilai) > 0:   # pastikan list tidak kosong\n",
        "        return total / len(data_nilai)\n",
        "    else:\n",
        "        return 0  # jika list kosong, kembalikan 0\n",
        "\n",
        "# Pemanggilan fungsi\n",
        "nilai_praktikan = [85, 78, 92, 65, 90]\n",
        "print(f\"Nilai rata-rata kelas adalah: {hitung_rata_rata(nilai_praktikan)}\")\n"
      ],
      "metadata": {
        "colab": {
          "base_uri": "https://localhost:8080/"
        },
        "id": "IMoXTUMN2vMp",
        "outputId": "7c6af6c6-73fd-40e5-d37c-458ed46d9739"
      },
      "execution_count": 14,
      "outputs": [
        {
          "output_type": "stream",
          "name": "stdout",
          "text": [
            "Nilai rata-rata kelas adalah: 82.0\n"
          ]
        }
      ]
    },
    {
      "cell_type": "code",
      "source": [
        "#Mengabaikan nilai tidak valid\n",
        "def hitung_rata_rata(data_nilai):\n",
        "    \"\"\"Menghitung rata-rata nilai dengan pengecekan validitas nilai.\"\"\"\n",
        "    total = 0\n",
        "    jumlah_data = 0\n",
        "\n",
        "    for nilai in data_nilai:\n",
        "        # Pengecekan nilai valid\n",
        "        if 0 <= nilai <= 100:\n",
        "            total += nilai\n",
        "            jumlah_data += 1\n",
        "        else:\n",
        "            print(f\"Nilai {nilai} diabaikan karena tidak valid.\")\n",
        "\n",
        "    if jumlah_data > 0:\n",
        "        return total / jumlah_data\n",
        "    else:\n",
        "        return 0\n",
        "nilai_praktikan = [85, 78, 92, -5, 120, 65]\n",
        "print(f\"Nilai rata-rata kelas adalah: {hitung_rata_rata(nilai_praktikan)}\")\n"
      ],
      "metadata": {
        "colab": {
          "base_uri": "https://localhost:8080/"
        },
        "id": "GMaJgReD5ghU",
        "outputId": "60785878-f13b-452e-e490-7bf13d034fe0"
      },
      "execution_count": 15,
      "outputs": [
        {
          "output_type": "stream",
          "name": "stdout",
          "text": [
            "Nilai -5 diabaikan karena tidak valid.\n",
            "Nilai 120 diabaikan karena tidak valid.\n",
            "Nilai rata-rata kelas adalah: 80.0\n"
          ]
        }
      ]
    },
    {
      "cell_type": "code",
      "source": [
        "#Memberikan penalti\n",
        "def hitung_rata_rata(data_nilai):\n",
        "    \"\"\"Menghitung rata-rata nilai dengan penalti untuk nilai tidak valid.\"\"\"\n",
        "    total = 0\n",
        "\n",
        "    for nilai in data_nilai:\n",
        "        if 0 <= nilai <= 100:\n",
        "            total += nilai\n",
        "        else:\n",
        "            print(f\"Nilai {nilai} tidak valid, diberi penalti 0.\")\n",
        "            total += 0  # penalti\n",
        "\n",
        "    return total / len(data_nilai)\n",
        "nilai_praktikan = [85, 78, 92, -5, 120, 65]\n",
        "print(f\"Nilai rata-rata kelas adalah: {hitung_rata_rata(nilai_praktikan)}\")\n"
      ],
      "metadata": {
        "colab": {
          "base_uri": "https://localhost:8080/"
        },
        "id": "cPbjhtNr613f",
        "outputId": "76e9e40f-3afd-4070-96e3-d6cf5c2f0ad0"
      },
      "execution_count": 16,
      "outputs": [
        {
          "output_type": "stream",
          "name": "stdout",
          "text": [
            "Nilai -5 tidak valid, diberi penalti 0.\n",
            "Nilai 120 tidak valid, diberi penalti 0.\n",
            "Nilai rata-rata kelas adalah: 53.333333333333336\n"
          ]
        }
      ]
    },
    {
      "cell_type": "code",
      "source": [
        "# SOAL 4: Sistem Penentuan Predikat Nilai\n",
        "def tentukan_predikat(skor):\n",
        "    \"\"\"Menentukan predikat (A, B, C, D, E) berdasarkan skor.\"\"\"\n",
        "    if skor >= 85:\n",
        "        return \"A\"\n",
        "    elif skor >= 70:\n",
        "        return \"B\"\n",
        "    elif skor >= 60:\n",
        "        return \"C\"\n",
        "    elif skor >= 50:\n",
        "        return \"D\"\n",
        "    else:\n",
        "        return \"E\"\n",
        "\n",
        "# Pemanggilan:\n",
        "print(f\"Skor 75 mendapat predikat: {tentukan_predikat(75)}\")\n",
        "print(f\"Skor 48 mendapat predikat: {tentukan_predikat(48)}\")"
      ],
      "metadata": {
        "colab": {
          "base_uri": "https://localhost:8080/"
        },
        "id": "1OUQwB_0rOEJ",
        "outputId": "583061a5-59de-4f07-9eaf-9a099a7d7495"
      },
      "execution_count": null,
      "outputs": [
        {
          "output_type": "stream",
          "name": "stdout",
          "text": [
            "Skor 75 mendapat predikat: B\n",
            "Skor 48 mendapat predikat: E\n"
          ]
        }
      ]
    },
    {
      "cell_type": "code",
      "source": [
        "def hitung_faktorial(n):\n",
        "    \"\"\"Menghitung faktorial dari bilangan bulat positif n.\"\"\"\n",
        "\n",
        "    # Modifikasi: pengecekan kasus khusus\n",
        "    if n < 0:\n",
        "        return \"Error: Faktorial tidak terdefinisi untuk bilangan negatif.\"\n",
        "    elif n == 0 or n == 1:\n",
        "        return 1\n",
        "\n",
        "    hasil = 1\n",
        "\n",
        "    # Perulangan while untuk menghitung faktorial\n",
        "    while n > 1:\n",
        "        hasil *= n\n",
        "        n -= 1  # Mengurangi nilai n setiap iterasi\n",
        "\n",
        "    return hasil\n",
        "\n",
        "\n",
        "# Pemanggilan fungsi\n",
        "bilangan = 4\n",
        "print(f\"Faktorial dari {bilangan} adalah: {hitung_faktorial(bilangan)}\")\n"
      ],
      "metadata": {
        "id": "_66rFQM-r-El",
        "colab": {
          "base_uri": "https://localhost:8080/"
        },
        "outputId": "b5ed70e9-e8e5-44cc-93cc-d9d80b95fa24"
      },
      "execution_count": 18,
      "outputs": [
        {
          "output_type": "stream",
          "name": "stdout",
          "text": [
            "Faktorial dari 4 adalah: 24\n"
          ]
        }
      ]
    },
    {
      "cell_type": "code",
      "source": [
        "def analisis_suhu(data_suhu, batas_panas=35, batas_dingin=15):\n",
        "    \"\"\"Menghitung jumlah hari Panas (> batas_panas) dan Dingin (< batas_dingin) dari data_suhu.\"\"\"\n",
        "\n",
        "    panas_count = 0\n",
        "    dingin_count = 0\n",
        "\n",
        "    # Perulangan untuk membaca setiap data suhu\n",
        "    for suhu in data_suhu:\n",
        "        if suhu > batas_panas:\n",
        "            panas_count += 1\n",
        "        elif suhu < batas_dingin:\n",
        "            dingin_count += 1\n",
        "\n",
        "    return panas_count, dingin_count\n",
        "\n",
        "\n",
        "# Contoh penggunaan\n",
        "suhu_mingguan = [38, 30, 14, 25, 36, 15, 28]\n",
        "\n",
        "jumlah_panas, jumlah_dingin = analisis_suhu(suhu_mingguan)\n",
        "\n",
        "print(f\"Jumlah hari Panas (>35°C): {jumlah_panas}\")\n",
        "print(f\"Jumlah hari Dingin (<15°C): {jumlah_dingin}\")\n"
      ],
      "metadata": {
        "id": "NpAMWL5JsHir",
        "colab": {
          "base_uri": "https://localhost:8080/"
        },
        "outputId": "d92268e9-a16f-40fc-d09b-cd7e534d9d8b"
      },
      "execution_count": 19,
      "outputs": [
        {
          "output_type": "stream",
          "name": "stdout",
          "text": [
            "Jumlah hari Panas (>35°C): 2\n",
            "Jumlah hari Dingin (<15°C): 1\n"
          ]
        }
      ]
    },
    {
      "cell_type": "code",
      "source": [
        "suhu_mingguan = [38, 30, 14, 25, 36, 15, 28]\n",
        "\n",
        "# Menggunakan nilai default\n",
        "panas1, dingin1 = analisis_suhu(suhu_mingguan)\n",
        "print(f\"Default batas panas/dingin (35 & 15) → Panas: {panas1}, Dingin: {dingin1}\")\n",
        "\n",
        "# Menggunakan nilai kustom\n",
        "panas2, dingin2 = analisis_suhu(suhu_mingguan, batas_panas=30, batas_dingin=10)\n",
        "print(f\"Kustom batas panas/dingin (30 & 10) → Panas: {panas2}, Dingin: {dingin2}\")\n"
      ],
      "metadata": {
        "colab": {
          "base_uri": "https://localhost:8080/"
        },
        "id": "rZSUulPAKbLr",
        "outputId": "1c10a0e5-9034-44fe-c675-dbca68036655"
      },
      "execution_count": 20,
      "outputs": [
        {
          "output_type": "stream",
          "name": "stdout",
          "text": [
            "Default batas panas/dingin (35 & 15) → Panas: 2, Dingin: 1\n",
            "Kustom batas panas/dingin (30 & 10) → Panas: 2, Dingin: 0\n"
          ]
        }
      ]
    }
  ]
}